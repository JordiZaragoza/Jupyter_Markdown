{
 "cells": [
  {
   "cell_type": "markdown",
   "id": "eed83f75",
   "metadata": {},
   "source": [
    "## Asignacion de Variables"
   ]
  },
  {
   "cell_type": "code",
   "execution_count": 15,
   "id": "552bbf3a",
   "metadata": {},
   "outputs": [
    {
     "data": {
      "text/plain": [
       "8"
      ]
     },
     "execution_count": 15,
     "metadata": {},
     "output_type": "execute_result"
    }
   ],
   "source": [
    ">>> x=8\n",
    ">>> y=3\n",
    ">>> x"
   ]
  },
  {
   "cell_type": "markdown",
   "id": "54c31ae7",
   "metadata": {},
   "source": [
    "## Operaciones Matematicas"
   ]
  },
  {
   "cell_type": "markdown",
   "id": "d6c83a09",
   "metadata": {},
   "source": [
    "### *1. Suma*"
   ]
  },
  {
   "cell_type": "code",
   "execution_count": 2,
   "id": "e7494237",
   "metadata": {},
   "outputs": [
    {
     "data": {
      "text/plain": [
       "11"
      ]
     },
     "execution_count": 2,
     "metadata": {},
     "output_type": "execute_result"
    }
   ],
   "source": [
    ">>> x+y"
   ]
  },
  {
   "cell_type": "markdown",
   "id": "53b64cd1",
   "metadata": {},
   "source": [
    "### *2. Resta*"
   ]
  },
  {
   "cell_type": "code",
   "execution_count": 3,
   "id": "1d41744c",
   "metadata": {},
   "outputs": [
    {
     "data": {
      "text/plain": [
       "5"
      ]
     },
     "execution_count": 3,
     "metadata": {},
     "output_type": "execute_result"
    }
   ],
   "source": [
    ">>> x-y"
   ]
  },
  {
   "cell_type": "markdown",
   "id": "c93b30b5",
   "metadata": {},
   "source": [
    "### *3. Multiplicacion*"
   ]
  },
  {
   "cell_type": "code",
   "execution_count": 6,
   "id": "56fec5bf",
   "metadata": {},
   "outputs": [
    {
     "data": {
      "text/plain": [
       "15"
      ]
     },
     "execution_count": 6,
     "metadata": {},
     "output_type": "execute_result"
    }
   ],
   "source": [
    ">>> y*5"
   ]
  },
  {
   "cell_type": "markdown",
   "id": "65e3ae5a",
   "metadata": {},
   "source": [
    "### *4. Division*"
   ]
  },
  {
   "cell_type": "code",
   "execution_count": 9,
   "id": "59430597",
   "metadata": {
    "scrolled": false
   },
   "outputs": [
    {
     "data": {
      "text/plain": [
       "2.0"
      ]
     },
     "execution_count": 9,
     "metadata": {},
     "output_type": "execute_result"
    }
   ],
   "source": [
    ">>> 8/4"
   ]
  },
  {
   "cell_type": "markdown",
   "id": "28fc176f",
   "metadata": {},
   "source": [
    "### *4. Exponienciacion*"
   ]
  },
  {
   "cell_type": "code",
   "execution_count": 5,
   "id": "5b67e3b2",
   "metadata": {},
   "outputs": [
    {
     "data": {
      "text/plain": [
       "512"
      ]
     },
     "execution_count": 5,
     "metadata": {},
     "output_type": "execute_result"
    }
   ],
   "source": [
    ">>> x**3"
   ]
  },
  {
   "cell_type": "markdown",
   "id": "590a4af6",
   "metadata": {},
   "source": [
    "## Casting"
   ]
  },
  {
   "cell_type": "code",
   "execution_count": 10,
   "id": "dbdcb80c",
   "metadata": {},
   "outputs": [
    {
     "data": {
      "text/plain": [
       "8.0"
      ]
     },
     "execution_count": 10,
     "metadata": {},
     "output_type": "execute_result"
    }
   ],
   "source": [
    ">>> float(x)"
   ]
  },
  {
   "cell_type": "code",
   "execution_count": 13,
   "id": "118ec700",
   "metadata": {},
   "outputs": [
    {
     "data": {
      "text/plain": [
       "'3'"
      ]
     },
     "execution_count": 13,
     "metadata": {},
     "output_type": "execute_result"
    }
   ],
   "source": [
    ">>> str(y)"
   ]
  },
  {
   "cell_type": "markdown",
   "id": "7c67801a",
   "metadata": {},
   "source": [
    "## Tecnicas con Strings"
   ]
  },
  {
   "cell_type": "code",
   "execution_count": 16,
   "id": "678f3ef2",
   "metadata": {},
   "outputs": [
    {
     "data": {
      "text/plain": [
       "'Jordi'"
      ]
     },
     "execution_count": 16,
     "metadata": {},
     "output_type": "execute_result"
    }
   ],
   "source": [
    ">>> nombre = \"Jordi\"\n",
    ">>> apellido = \"Zaragoza\"\n",
    ">>> nombre"
   ]
  },
  {
   "cell_type": "code",
   "execution_count": 17,
   "id": "549015cb",
   "metadata": {},
   "outputs": [
    {
     "data": {
      "text/plain": [
       "'JordiJordi'"
      ]
     },
     "execution_count": 17,
     "metadata": {},
     "output_type": "execute_result"
    }
   ],
   "source": [
    ">>> nombre*2"
   ]
  },
  {
   "cell_type": "code",
   "execution_count": 19,
   "id": "4653d4d4",
   "metadata": {},
   "outputs": [
    {
     "data": {
      "text/plain": [
       "'Zaragoza Campuzano'"
      ]
     },
     "execution_count": 19,
     "metadata": {},
     "output_type": "execute_result"
    }
   ],
   "source": [
    ">>> apellido + \" Campuzano\""
   ]
  },
  {
   "cell_type": "code",
   "execution_count": 20,
   "id": "ba0b14fb",
   "metadata": {},
   "outputs": [
    {
     "data": {
      "text/plain": [
       "'r'"
      ]
     },
     "execution_count": 20,
     "metadata": {},
     "output_type": "execute_result"
    }
   ],
   "source": [
    ">>> nombre[2]"
   ]
  },
  {
   "cell_type": "code",
   "execution_count": 21,
   "id": "9c7f2ab8",
   "metadata": {},
   "outputs": [
    {
     "data": {
      "text/plain": [
       "'ZARAGOZA'"
      ]
     },
     "execution_count": 21,
     "metadata": {},
     "output_type": "execute_result"
    }
   ],
   "source": [
    ">>> apellido.upper()"
   ]
  },
  {
   "cell_type": "markdown",
   "id": "28bad61c",
   "metadata": {},
   "source": [
    "## Booleans"
   ]
  },
  {
   "cell_type": "code",
   "execution_count": 22,
   "id": "77f20912",
   "metadata": {},
   "outputs": [
    {
     "data": {
      "text/plain": [
       "False"
      ]
     },
     "execution_count": 22,
     "metadata": {},
     "output_type": "execute_result"
    }
   ],
   "source": [
    ">>> x<y"
   ]
  },
  {
   "cell_type": "code",
   "execution_count": 23,
   "id": "b4d34117",
   "metadata": {},
   "outputs": [
    {
     "data": {
      "text/plain": [
       "True"
      ]
     },
     "execution_count": 23,
     "metadata": {},
     "output_type": "execute_result"
    }
   ],
   "source": [
    ">>> y==3"
   ]
  },
  {
   "cell_type": "code",
   "execution_count": 24,
   "id": "0a4ec2c5",
   "metadata": {},
   "outputs": [
    {
     "data": {
      "text/plain": [
       "True"
      ]
     },
     "execution_count": 24,
     "metadata": {},
     "output_type": "execute_result"
    }
   ],
   "source": [
    ">>> y!=x"
   ]
  },
  {
   "cell_type": "code",
   "execution_count": 25,
   "id": "5df5789f",
   "metadata": {},
   "outputs": [
    {
     "data": {
      "text/plain": [
       "True"
      ]
     },
     "execution_count": 25,
     "metadata": {},
     "output_type": "execute_result"
    }
   ],
   "source": [
    ">>> \"o\" in nombre"
   ]
  },
  {
   "cell_type": "markdown",
   "id": "e9e804ac",
   "metadata": {},
   "source": [
    "![Imagen ordenador](https://cdn5.dibujos.net/dibujos/pintados/201848/un-ordenador-portatil-la-casa-la-habitacion-11502052.jpg)"
   ]
  }
 ],
 "metadata": {
  "kernelspec": {
   "display_name": "Python 3",
   "language": "python",
   "name": "python3"
  },
  "language_info": {
   "codemirror_mode": {
    "name": "ipython",
    "version": 3
   },
   "file_extension": ".py",
   "mimetype": "text/x-python",
   "name": "python",
   "nbconvert_exporter": "python",
   "pygments_lexer": "ipython3",
   "version": "3.8.8"
  }
 },
 "nbformat": 4,
 "nbformat_minor": 5
}
